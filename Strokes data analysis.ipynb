{
    "cells": [
        {
            "cell_type": "markdown",
            "metadata": {},
            "source": "# Description\nThis notebook analyzes and vizualizes Strokes data\n\ndataset obtained from Kaggle\n--> https://www.kaggle.com/datasets/fedesoriano/stroke-prediction-dataset"
        },
        {
            "cell_type": "markdown",
            "metadata": {},
            "source": "# Introduction. About this dataset"
        },
        {
            "cell_type": "markdown",
            "metadata": {},
            "source": "According to the World Health Organization (WHO) stroke is the 2nd leading cause of death globally, responsible for approximately 11% of total deaths. \nThis dataset is used to predict whether a patient is likely to get stroke based on the input parameters like gender, age, various diseases, and smoking status. Each row in the data provides relavant information about the patient."
        },
        {
            "cell_type": "markdown",
            "metadata": {},
            "source": "# 1. Importing Libaries"
        },
        {
            "cell_type": "code",
            "execution_count": 1,
            "metadata": {},
            "outputs": [
                {
                    "data": {
                        "text/html": "<div>\n<style scoped>\n    .dataframe tbody tr th:only-of-type {\n        vertical-align: middle;\n    }\n\n    .dataframe tbody tr th {\n        vertical-align: top;\n    }\n\n    .dataframe thead th {\n        text-align: right;\n    }\n</style>\n<table border=\"1\" class=\"dataframe\">\n  <thead>\n    <tr style=\"text-align: right;\">\n      <th></th>\n      <th>id</th>\n      <th>gender</th>\n      <th>age</th>\n      <th>hypertension</th>\n      <th>heart_disease</th>\n      <th>ever_married</th>\n      <th>work_type</th>\n      <th>Residence_type</th>\n      <th>avg_glucose_level</th>\n      <th>bmi</th>\n      <th>smoking_status</th>\n      <th>stroke</th>\n    </tr>\n  </thead>\n  <tbody>\n    <tr>\n      <th>0</th>\n      <td>9046</td>\n      <td>Male</td>\n      <td>67.0</td>\n      <td>0</td>\n      <td>1</td>\n      <td>Yes</td>\n      <td>Private</td>\n      <td>Urban</td>\n      <td>228.69</td>\n      <td>36.6</td>\n      <td>formerly smoked</td>\n      <td>1</td>\n    </tr>\n    <tr>\n      <th>1</th>\n      <td>51676</td>\n      <td>Female</td>\n      <td>61.0</td>\n      <td>0</td>\n      <td>0</td>\n      <td>Yes</td>\n      <td>Self-employed</td>\n      <td>Rural</td>\n      <td>202.21</td>\n      <td>NaN</td>\n      <td>never smoked</td>\n      <td>1</td>\n    </tr>\n    <tr>\n      <th>2</th>\n      <td>31112</td>\n      <td>Male</td>\n      <td>80.0</td>\n      <td>0</td>\n      <td>1</td>\n      <td>Yes</td>\n      <td>Private</td>\n      <td>Rural</td>\n      <td>105.92</td>\n      <td>32.5</td>\n      <td>never smoked</td>\n      <td>1</td>\n    </tr>\n    <tr>\n      <th>3</th>\n      <td>60182</td>\n      <td>Female</td>\n      <td>49.0</td>\n      <td>0</td>\n      <td>0</td>\n      <td>Yes</td>\n      <td>Private</td>\n      <td>Urban</td>\n      <td>171.23</td>\n      <td>34.4</td>\n      <td>smokes</td>\n      <td>1</td>\n    </tr>\n    <tr>\n      <th>4</th>\n      <td>1665</td>\n      <td>Female</td>\n      <td>79.0</td>\n      <td>1</td>\n      <td>0</td>\n      <td>Yes</td>\n      <td>Self-employed</td>\n      <td>Rural</td>\n      <td>174.12</td>\n      <td>24.0</td>\n      <td>never smoked</td>\n      <td>1</td>\n    </tr>\n  </tbody>\n</table>\n</div>",
                        "text/plain": "      id  gender   age  hypertension  heart_disease ever_married  \\\n0   9046    Male  67.0             0              1          Yes   \n1  51676  Female  61.0             0              0          Yes   \n2  31112    Male  80.0             0              1          Yes   \n3  60182  Female  49.0             0              0          Yes   \n4   1665  Female  79.0             1              0          Yes   \n\n       work_type Residence_type  avg_glucose_level   bmi   smoking_status  \\\n0        Private          Urban             228.69  36.6  formerly smoked   \n1  Self-employed          Rural             202.21   NaN     never smoked   \n2        Private          Rural             105.92  32.5     never smoked   \n3        Private          Urban             171.23  34.4           smokes   \n4  Self-employed          Rural             174.12  24.0     never smoked   \n\n   stroke  \n0       1  \n1       1  \n2       1  \n3       1  \n4       1  "
                    },
                    "execution_count": 1,
                    "metadata": {},
                    "output_type": "execute_result"
                }
            ],
            "source": "# The code was removed by Watson Studio for sharing."
        },
        {
            "cell_type": "markdown",
            "metadata": {},
            "source": "# 2. Data Exploration\n\n    a. Shape \n    b. Info\n    c. Nulls\n    d. and what not"
        },
        {
            "cell_type": "code",
            "execution_count": 6,
            "metadata": {},
            "outputs": [
                {
                    "name": "stdout",
                    "output_type": "stream",
                    "text": "(5110, 12)\nid                     0\ngender                 0\nage                    0\nhypertension           0\nheart_disease          0\never_married           0\nwork_type              0\nResidence_type         0\navg_glucose_level      0\nbmi                  201\nsmoking_status         0\nstroke                 0\ndtype: int64\n"
                }
            ],
            "source": "print(df_data_1.shape)\n#print(df_data_1.info)\nprint(df_data_1.isnull().sum())"
        },
        {
            "cell_type": "code",
            "execution_count": 7,
            "metadata": {},
            "outputs": [
                {
                    "data": {
                        "text/html": "<div>\n<style scoped>\n    .dataframe tbody tr th:only-of-type {\n        vertical-align: middle;\n    }\n\n    .dataframe tbody tr th {\n        vertical-align: top;\n    }\n\n    .dataframe thead th {\n        text-align: right;\n    }\n</style>\n<table border=\"1\" class=\"dataframe\">\n  <thead>\n    <tr style=\"text-align: right;\">\n      <th></th>\n      <th>id</th>\n      <th>age</th>\n      <th>hypertension</th>\n      <th>heart_disease</th>\n      <th>avg_glucose_level</th>\n      <th>bmi</th>\n      <th>stroke</th>\n    </tr>\n  </thead>\n  <tbody>\n    <tr>\n      <th>count</th>\n      <td>5110.000000</td>\n      <td>5110.000000</td>\n      <td>5110.000000</td>\n      <td>5110.000000</td>\n      <td>5110.000000</td>\n      <td>4909.000000</td>\n      <td>5110.000000</td>\n    </tr>\n    <tr>\n      <th>mean</th>\n      <td>36517.829354</td>\n      <td>43.226614</td>\n      <td>0.097456</td>\n      <td>0.054012</td>\n      <td>106.147677</td>\n      <td>28.893237</td>\n      <td>0.048728</td>\n    </tr>\n    <tr>\n      <th>std</th>\n      <td>21161.721625</td>\n      <td>22.612647</td>\n      <td>0.296607</td>\n      <td>0.226063</td>\n      <td>45.283560</td>\n      <td>7.854067</td>\n      <td>0.215320</td>\n    </tr>\n    <tr>\n      <th>min</th>\n      <td>67.000000</td>\n      <td>0.080000</td>\n      <td>0.000000</td>\n      <td>0.000000</td>\n      <td>55.120000</td>\n      <td>10.300000</td>\n      <td>0.000000</td>\n    </tr>\n    <tr>\n      <th>25%</th>\n      <td>17741.250000</td>\n      <td>25.000000</td>\n      <td>0.000000</td>\n      <td>0.000000</td>\n      <td>77.245000</td>\n      <td>23.500000</td>\n      <td>0.000000</td>\n    </tr>\n    <tr>\n      <th>50%</th>\n      <td>36932.000000</td>\n      <td>45.000000</td>\n      <td>0.000000</td>\n      <td>0.000000</td>\n      <td>91.885000</td>\n      <td>28.100000</td>\n      <td>0.000000</td>\n    </tr>\n    <tr>\n      <th>75%</th>\n      <td>54682.000000</td>\n      <td>61.000000</td>\n      <td>0.000000</td>\n      <td>0.000000</td>\n      <td>114.090000</td>\n      <td>33.100000</td>\n      <td>0.000000</td>\n    </tr>\n    <tr>\n      <th>max</th>\n      <td>72940.000000</td>\n      <td>82.000000</td>\n      <td>1.000000</td>\n      <td>1.000000</td>\n      <td>271.740000</td>\n      <td>97.600000</td>\n      <td>1.000000</td>\n    </tr>\n  </tbody>\n</table>\n</div>",
                        "text/plain": "                 id          age  hypertension  heart_disease  \\\ncount   5110.000000  5110.000000   5110.000000    5110.000000   \nmean   36517.829354    43.226614      0.097456       0.054012   \nstd    21161.721625    22.612647      0.296607       0.226063   \nmin       67.000000     0.080000      0.000000       0.000000   \n25%    17741.250000    25.000000      0.000000       0.000000   \n50%    36932.000000    45.000000      0.000000       0.000000   \n75%    54682.000000    61.000000      0.000000       0.000000   \nmax    72940.000000    82.000000      1.000000       1.000000   \n\n       avg_glucose_level          bmi       stroke  \ncount        5110.000000  4909.000000  5110.000000  \nmean          106.147677    28.893237     0.048728  \nstd            45.283560     7.854067     0.215320  \nmin            55.120000    10.300000     0.000000  \n25%            77.245000    23.500000     0.000000  \n50%            91.885000    28.100000     0.000000  \n75%           114.090000    33.100000     0.000000  \nmax           271.740000    97.600000     1.000000  "
                    },
                    "execution_count": 7,
                    "metadata": {},
                    "output_type": "execute_result"
                }
            ],
            "source": "df_data_1.describe()"
        },
        {
            "cell_type": "code",
            "execution_count": 8,
            "metadata": {},
            "outputs": [
                {
                    "name": "stdout",
                    "output_type": "stream",
                    "text": "Number of people that had a stroke 249\nNumber of people that Did not have a stroke 4861\n"
                }
            ],
            "source": "ds_stroke=df_data_1.loc[df_data_1.stroke==1]\nds_no_stroke = df_data_1.loc[df_data_1.stroke==0]\nprint('Number of people that had a stroke',len(ds_stroke))\nprint('Number of people that Did not have a stroke',len(ds_no_stroke))"
        },
        {
            "cell_type": "markdown",
            "metadata": {},
            "source": "Now lets add some fun with a Bar graph"
        },
        {
            "cell_type": "code",
            "execution_count": 17,
            "metadata": {},
            "outputs": [
                {
                    "data": {
                        "image/png": "[encoded data removed]",
                        "text/plain": "<Figure size 432x288 with 1 Axes>"
                    },
                    "metadata": {
                        "needs_background": "light"
                    },
                    "output_type": "display_data"
                }
            ],
            "source": "plt.bar(['Had Stroke','Didnt have Stroke'],[len(ds_stroke),len(ds_no_stroke)],color=('m','y'))\nplt.xlabel('Stroke info')\nplt.ylabel('Number of People')\nplt.title('Stroke data analysis')\nplt.show()"
        },
        {
            "cell_type": "markdown",
            "metadata": {},
            "source": "So the data is pretty imbalanced, you can observe there is way too much more people in the data that had No stroke than people that had a stroke.\nThis could result in a unaccurate prediction model"
        },
        {
            "cell_type": "code",
            "execution_count": null,
            "metadata": {},
            "outputs": [],
            "source": ""
        }
    ],
    "metadata": {
        "kernelspec": {
            "display_name": "Python 3.8 Watson NLP",
            "language": "python",
            "name": "python3"
        },
        "language_info": {
            "codemirror_mode": {
                "name": "ipython",
                "version": 3
            },
            "file_extension": ".py",
            "mimetype": "text/x-python",
            "name": "python",
            "nbconvert_exporter": "python",
            "pygments_lexer": "ipython3",
            "version": "3.8.11"
        }
    },
    "nbformat": 4,
    "nbformat_minor": 1
}